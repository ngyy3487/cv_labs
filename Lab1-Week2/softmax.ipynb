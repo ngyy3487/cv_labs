{
 "cells": [
  {
   "cell_type": "markdown",
   "metadata": {},
   "source": [
    "# Softmax exercise\n",
    "\n",
    "*Complete and hand in this completed worksheet (including its outputs and any supporting code outside of the worksheet) with your assignment submission.*\n",
    "\n",
    "In this exercise, you will:\n",
    "\n",
    "- implement a fully-vectorized **loss function** for the Softmax classifier\n",
    "- implement the fully-vectorized expression for its **analytic gradient**\n",
    "- **check your implementation** with numerical gradient\n",
    "- use a validation set to **tune the learning rate and regularization** strength\n",
    "- **optimize** the loss function with **SGD**\n",
    "- **visualize** the final learned weights\n"
   ]
  },
  {
   "cell_type": "markdown",
   "metadata": {},
   "source": [
    "**Acknowledgement: This exercise is adapted from [Stanford CS231n](http://cs231n.stanford.edu/).**"
   ]
  },
  {
   "cell_type": "code",
   "execution_count": 26,
   "metadata": {},
   "outputs": [
    {
     "name": "stdout",
     "output_type": "stream",
     "text": [
      "The autoreload extension is already loaded. To reload it, use:\n",
      "  %reload_ext autoreload\n"
     ]
    }
   ],
   "source": [
    "import random\n",
    "import numpy as np\n",
    "from data_utils import load_CIFAR10\n",
    "import matplotlib.pyplot as plt\n",
    "\n",
    "%matplotlib inline\n",
    "plt.rcParams['figure.figsize'] = (10.0, 8.0) # set default size of plots\n",
    "plt.rcParams['image.interpolation'] = 'nearest'\n",
    "plt.rcParams['image.cmap'] = 'gray'\n",
    "\n",
    "# for auto-reloading extenrnal modules\n",
    "# see http://stackoverflow.com/questions/1907993/autoreload-of-modules-in-ipython\n",
    "%load_ext autoreload\n",
    "%autoreload 2"
   ]
  },
  {
   "cell_type": "code",
   "execution_count": 27,
   "metadata": {},
   "outputs": [],
   "source": [
    "def rel_error(out, correct_out):\n",
    "    return np.sum(abs(out - correct_out) / (abs(out) + abs(correct_out)))"
   ]
  },
  {
   "cell_type": "code",
   "execution_count": 28,
   "metadata": {
    "collapsed": true
   },
   "outputs": [
    {
     "name": "stdout",
     "output_type": "stream",
     "text": [
      "Train data shape:  (49000, 3073)\n",
      "Train labels shape:  (49000,)\n",
      "Validation data shape:  (1000, 3073)\n",
      "Validation labels shape:  (1000,)\n",
      "Test data shape:  (1000, 3073)\n",
      "Test labels shape:  (1000,)\n",
      "dev data shape:  (500, 3073)\n",
      "dev labels shape:  (500,)\n"
     ]
    }
   ],
   "source": [
    "def get_CIFAR10_data(num_training=49000, num_validation=1000, num_test=1000, num_dev=500):\n",
    "    \"\"\"\n",
    "    Load the CIFAR-10 dataset from disk and perform preprocessing to prepare\n",
    "    it for the linear classifier. These are the same steps as we used for the\n",
    "    Softmax, but condensed to a single function.  \n",
    "    \"\"\"\n",
    "    # Load the raw CIFAR-10 data\n",
    "    cifar10_dir = 'datasets/cifar-10-batches-py'\n",
    "    X_train, y_train, X_test, y_test = load_CIFAR10(cifar10_dir)\n",
    "\n",
    "    # subsample the data\n",
    "    mask = range(num_training, num_training + num_validation)\n",
    "    X_val = X_train[mask]\n",
    "    y_val = y_train[mask]\n",
    "    mask = range(num_training)\n",
    "    X_train = X_train[mask]\n",
    "    y_train = y_train[mask]\n",
    "    mask = range(num_test)\n",
    "    X_test = X_test[mask]\n",
    "    y_test = y_test[mask]\n",
    "    \n",
    "    # # We will also make a development set, which is a small subset of\n",
    "    # the training set.\n",
    "    mask = np.random.choice(num_training, num_dev, replace=False)\n",
    "    X_dev = X_train[mask]\n",
    "    y_dev = y_train[mask]\n",
    "\n",
    "    # Preprocessing: reshape the image data into rows\n",
    "    X_train = np.reshape(X_train, (X_train.shape[0], -1))\n",
    "    X_val = np.reshape(X_val, (X_val.shape[0], -1))\n",
    "    X_test = np.reshape(X_test, (X_test.shape[0], -1))\n",
    "    X_dev = np.reshape(X_dev, (X_dev.shape[0], -1))\n",
    "\n",
    "    # Normalize the data: subtract the mean image\n",
    "    mean_image = np.mean(X_train, axis = 0)\n",
    "    X_train -= mean_image\n",
    "    X_val -= mean_image\n",
    "    X_test -= mean_image\n",
    "    X_dev -= mean_image\n",
    "\n",
    "    # add bias dimension and transform into columns\n",
    "    X_train = np.hstack([X_train, np.ones((X_train.shape[0], 1))])\n",
    "    X_val = np.hstack([X_val, np.ones((X_val.shape[0], 1))])\n",
    "    X_test = np.hstack([X_test, np.ones((X_test.shape[0], 1))])\n",
    "    X_dev = np.hstack([X_dev, np.ones((X_dev.shape[0], 1))])\n",
    "\n",
    "    return X_train, y_train, X_val, y_val, X_test, y_test, X_dev, y_dev\n",
    "\n",
    "\n",
    "# Invoke the above function to get our data.\n",
    "X_train, y_train, X_val, y_val, X_test, y_test, X_dev, y_dev = get_CIFAR10_data()\n",
    "print('Train data shape: ', X_train.shape)\n",
    "print('Train labels shape: ', y_train.shape)\n",
    "print('Validation data shape: ', X_val.shape)\n",
    "print('Validation labels shape: ', y_val.shape)\n",
    "print('Test data shape: ', X_test.shape)\n",
    "print('Test labels shape: ', y_test.shape)\n",
    "print('dev data shape: ', X_dev.shape)\n",
    "print('dev labels shape: ', y_dev.shape)"
   ]
  },
  {
   "cell_type": "code",
   "execution_count": 29,
   "metadata": {},
   "outputs": [],
   "source": [
    "# Create one-hot vectors for label\n",
    "num_class = 10\n",
    "y_train_oh = np.zeros((y_train.shape[0], 10))\n",
    "y_train_oh[np.arange(y_train.shape[0]), y_train] = 1\n",
    "y_val_oh = np.zeros((y_val.shape[0], 10))\n",
    "y_val_oh[np.arange(y_val.shape[0]), y_val] = 1\n",
    "y_test_oh = np.zeros((y_test.shape[0], 10))\n",
    "y_test_oh[np.arange(y_test.shape[0]), y_test] = 1\n",
    "\n",
    "y_dev_oh = np.zeros((y_dev.shape[0], 10))\n",
    "y_dev_oh[np.arange(y_dev.shape[0]), y_dev] = 1"
   ]
  },
  {
   "cell_type": "markdown",
   "metadata": {},
   "source": [
    "# Regression as classifier\n",
    "The most simple and straightforward approach to learn a classifier is to map the input data (raw image values) to class label (one-hot vector). The loss function is defined as following: \n",
    "$$\\mathcal{L}=\\frac{1}{n}\\|\\mathbf{X}\\mathbf{W}-\\mathbf{y}\\|_F^2\\qquad\\qquad(1)$$\n",
    "Where:\n",
    "* $\\mathbf{W}\\in \\mathbb{R}^{(d+1)\\times C}$: Classifier weight\n",
    "* $\\mathbf{X}\\in \\mathbb{R}^{n\\times (d+1)}$: Dataset\n",
    "* $\\mathbf{y}\\in \\mathbb{R}^{n\\times C}$: Class label (one-hot vector)"
   ]
  },
  {
   "cell_type": "markdown",
   "metadata": {},
   "source": [
    "# Optimization\n",
    "Given the loss function (1), the next problem is how to solve the weight $\\mathbf{W}$. We now discuss 2 approaches: \n",
    " * Random search\n",
    " * Closed-form solution\n",
    "\n",
    "## Random search"
   ]
  },
  {
   "cell_type": "code",
   "execution_count": 30,
   "metadata": {
    "collapsed": true
   },
   "outputs": [
    {
     "name": "stdout",
     "output_type": "stream",
     "text": [
      "in attempt 0 the loss was 36.637351, best 36.637351\n",
      "in attempt 1 the loss was 32.924404, best 32.924404\n",
      "in attempt 2 the loss was 33.806308, best 32.924404\n",
      "in attempt 3 the loss was 32.562024, best 32.562024\n",
      "in attempt 4 the loss was 34.541393, best 32.562024\n",
      "in attempt 5 the loss was 38.085818, best 32.562024\n",
      "in attempt 6 the loss was 33.462505, best 32.562024\n",
      "in attempt 7 the loss was 34.845458, best 32.562024\n",
      "in attempt 8 the loss was 34.530255, best 32.562024\n",
      "in attempt 9 the loss was 30.556467, best 30.556467\n",
      "in attempt 10 the loss was 32.865647, best 30.556467\n",
      "in attempt 11 the loss was 31.969817, best 30.556467\n",
      "in attempt 12 the loss was 34.242383, best 30.556467\n",
      "in attempt 13 the loss was 33.266100, best 30.556467\n",
      "in attempt 14 the loss was 32.291301, best 30.556467\n",
      "in attempt 15 the loss was 31.902112, best 30.556467\n",
      "in attempt 16 the loss was 32.662677, best 30.556467\n",
      "in attempt 17 the loss was 32.086070, best 30.556467\n",
      "in attempt 18 the loss was 32.429612, best 30.556467\n",
      "in attempt 19 the loss was 34.759837, best 30.556467\n",
      "in attempt 20 the loss was 34.839806, best 30.556467\n",
      "in attempt 21 the loss was 33.814048, best 30.556467\n",
      "in attempt 22 the loss was 31.959273, best 30.556467\n",
      "in attempt 23 the loss was 34.050328, best 30.556467\n",
      "in attempt 24 the loss was 33.007395, best 30.556467\n",
      "in attempt 25 the loss was 31.268496, best 30.556467\n",
      "in attempt 26 the loss was 32.748833, best 30.556467\n",
      "in attempt 27 the loss was 33.876862, best 30.556467\n",
      "in attempt 28 the loss was 33.987584, best 30.556467\n",
      "in attempt 29 the loss was 34.709678, best 30.556467\n",
      "in attempt 30 the loss was 34.033636, best 30.556467\n",
      "in attempt 31 the loss was 32.155135, best 30.556467\n",
      "in attempt 32 the loss was 32.289099, best 30.556467\n",
      "in attempt 33 the loss was 33.856707, best 30.556467\n",
      "in attempt 34 the loss was 34.027628, best 30.556467\n",
      "in attempt 35 the loss was 32.940843, best 30.556467\n",
      "in attempt 36 the loss was 32.943750, best 30.556467\n",
      "in attempt 37 the loss was 32.471462, best 30.556467\n",
      "in attempt 38 the loss was 31.570291, best 30.556467\n",
      "in attempt 39 the loss was 34.850495, best 30.556467\n",
      "in attempt 40 the loss was 32.524384, best 30.556467\n",
      "in attempt 41 the loss was 34.745756, best 30.556467\n",
      "in attempt 42 the loss was 32.578902, best 30.556467\n",
      "in attempt 43 the loss was 31.654832, best 30.556467\n",
      "in attempt 44 the loss was 33.913211, best 30.556467\n",
      "in attempt 45 the loss was 34.355702, best 30.556467\n",
      "in attempt 46 the loss was 31.704243, best 30.556467\n",
      "in attempt 47 the loss was 33.175149, best 30.556467\n",
      "in attempt 48 the loss was 34.071437, best 30.556467\n",
      "in attempt 49 the loss was 34.997157, best 30.556467\n",
      "in attempt 50 the loss was 35.274019, best 30.556467\n",
      "in attempt 51 the loss was 33.183698, best 30.556467\n",
      "in attempt 52 the loss was 33.342831, best 30.556467\n",
      "in attempt 53 the loss was 33.385239, best 30.556467\n",
      "in attempt 54 the loss was 34.570113, best 30.556467\n",
      "in attempt 55 the loss was 33.290241, best 30.556467\n",
      "in attempt 56 the loss was 35.698501, best 30.556467\n",
      "in attempt 57 the loss was 32.386731, best 30.556467\n",
      "in attempt 58 the loss was 32.116657, best 30.556467\n",
      "in attempt 59 the loss was 33.883616, best 30.556467\n",
      "in attempt 60 the loss was 34.300839, best 30.556467\n",
      "in attempt 61 the loss was 33.362207, best 30.556467\n",
      "in attempt 62 the loss was 31.564005, best 30.556467\n",
      "in attempt 63 the loss was 33.877760, best 30.556467\n",
      "in attempt 64 the loss was 33.996048, best 30.556467\n",
      "in attempt 65 the loss was 30.040423, best 30.040423\n",
      "in attempt 66 the loss was 35.458894, best 30.040423\n",
      "in attempt 67 the loss was 34.864141, best 30.040423\n",
      "in attempt 68 the loss was 33.210894, best 30.040423\n",
      "in attempt 69 the loss was 34.080812, best 30.040423\n",
      "in attempt 70 the loss was 32.589782, best 30.040423\n",
      "in attempt 71 the loss was 30.780545, best 30.040423\n",
      "in attempt 72 the loss was 32.135493, best 30.040423\n",
      "in attempt 73 the loss was 33.900922, best 30.040423\n",
      "in attempt 74 the loss was 31.544491, best 30.040423\n",
      "in attempt 75 the loss was 31.737214, best 30.040423\n",
      "in attempt 76 the loss was 31.410754, best 30.040423\n",
      "in attempt 77 the loss was 33.140367, best 30.040423\n",
      "in attempt 78 the loss was 35.623364, best 30.040423\n",
      "in attempt 79 the loss was 31.773960, best 30.040423\n",
      "in attempt 80 the loss was 35.066745, best 30.040423\n",
      "in attempt 81 the loss was 33.984874, best 30.040423\n",
      "in attempt 82 the loss was 32.162808, best 30.040423\n",
      "in attempt 83 the loss was 31.921446, best 30.040423\n",
      "in attempt 84 the loss was 35.018599, best 30.040423\n",
      "in attempt 85 the loss was 36.462637, best 30.040423\n",
      "in attempt 86 the loss was 32.381492, best 30.040423\n",
      "in attempt 87 the loss was 33.151785, best 30.040423\n",
      "in attempt 88 the loss was 34.853117, best 30.040423\n",
      "in attempt 89 the loss was 33.642947, best 30.040423\n",
      "in attempt 90 the loss was 33.865483, best 30.040423\n",
      "in attempt 91 the loss was 31.825663, best 30.040423\n",
      "in attempt 92 the loss was 34.795921, best 30.040423\n",
      "in attempt 93 the loss was 33.789278, best 30.040423\n",
      "in attempt 94 the loss was 31.951754, best 30.040423\n",
      "in attempt 95 the loss was 32.916194, best 30.040423\n",
      "in attempt 96 the loss was 33.177665, best 30.040423\n",
      "in attempt 97 the loss was 33.900388, best 30.040423\n",
      "in attempt 98 the loss was 33.620565, best 30.040423\n",
      "in attempt 99 the loss was 34.202109, best 30.040423\n"
     ]
    }
   ],
   "source": [
    "bestloss = float('inf')\n",
    "for num in range(100):\n",
    "    W = np.random.randn(3073, 10) * 0.0001\n",
    "    loss = np.linalg.norm(X_dev.dot(W) - y_dev_oh)\n",
    "    if (loss < bestloss):\n",
    "        bestloss = loss\n",
    "        bestW = W\n",
    "    print('in attempt %d the loss was %f, best %f' % (num, loss, bestloss))"
   ]
  },
  {
   "cell_type": "code",
   "execution_count": 31,
   "metadata": {
    "collapsed": true
   },
   "outputs": [
    {
     "name": "stdout",
     "output_type": "stream",
     "text": [
      "Accuracy on train set:  10.0\n",
      "Accuracy on test set:  9.5\n"
     ]
    }
   ],
   "source": [
    "# How bestW perform:\n",
    "print('Accuracy on train set: ', np.sum(np.argmin(np.abs(1 - X_dev.dot(W)), axis=1) == y_dev).astype(np.float32)/y_dev.shape[0]*100)\n",
    "print('Accuracy on test set: ', np.sum(np.argmin(np.abs(1 - X_test.dot(W)), axis=1) == y_test).astype(np.float32)/y_test.shape[0]*100)"
   ]
  },
  {
   "cell_type": "markdown",
   "metadata": {},
   "source": [
    "You can clearly see that the performance is very low, almost at the random level."
   ]
  },
  {
   "cell_type": "markdown",
   "metadata": {},
   "source": [
    "## Closed-form solution\n",
    "The closed-form solution is achieved by:\n",
    "$$\\frac{\\partial\\mathcal{L}}{\\partial \\mathbf{W}}=\\frac{2}{n}\\mathbf{X}^T(\\mathbf{X}\\mathbf{W}-\\mathbf{y})=0$$\n",
    "\n",
    "$$\\Leftrightarrow\\mathbf{W}^\\ast=(\\mathbf{X}^T\\mathbf{X})^{-1}\\mathbf{X}^T\\mathbf{y}$$"
   ]
  },
  {
   "cell_type": "code",
   "execution_count": 32,
   "metadata": {},
   "outputs": [],
   "source": [
    "################################################################################\n",
    "# TODO:                                                                        #\n",
    "# Implement the closed-form solution of the weight W.                          #\n",
    "################################################################################\n",
    "xtx = np.transpose(X_train) @ X_train\n",
    "xty = np.transpose(X_train).dot(y_train_oh)\n",
    "W = np.linalg.inv(xtx).dot(xty)\n",
    "################################################################################\n",
    "#                              END OF YOUR CODE                                #\n",
    "################################################################################"
   ]
  },
  {
   "cell_type": "code",
   "execution_count": 33,
   "metadata": {
    "collapsed": true
   },
   "outputs": [
    {
     "name": "stdout",
     "output_type": "stream",
     "text": [
      "Train set accuracy:  51.163265306122454\n",
      "Test set accuracy:  36.199999999999996\n"
     ]
    }
   ],
   "source": [
    "# Check accuracy:\n",
    "print('Train set accuracy: ', np.sum(np.argmin(np.abs(1 - X_train.dot(W)), axis=1) == y_train).astype(np.float32)/y_train.shape[0]*100)\n",
    "print('Test set accuracy: ', np.sum(np.argmin(np.abs(1 - X_test.dot(W)), axis=1) == y_test).astype(np.float32)/y_test.shape[0]*100)"
   ]
  },
  {
   "cell_type": "markdown",
   "metadata": {},
   "source": [
    "Now, you can see that the performance is much better."
   ]
  },
  {
   "cell_type": "markdown",
   "metadata": {},
   "source": [
    "## Regularization\n",
    "A simple way to improve performance is to include the L2-regularization penalty.\n",
    "$$\\mathcal{L}=\\frac{1}{n}\\|\\mathbf{X}\\mathbf{W}-\\mathbf{y}\\|_F^2 +\\lambda \\|\\mathbf{W}\\|_F^2 \\qquad\\qquad(2)$$\n",
    "The closed-form solution now is: \n",
    "$$\\Leftrightarrow\\mathbf{W}^\\ast=(\\mathbf{X}^T\\mathbf{X}+\\lambda n\\mathbf{I})^{-1}\\mathbf{X}^T\\mathbf{y}$$"
   ]
  },
  {
   "cell_type": "code",
   "execution_count": 34,
   "metadata": {},
   "outputs": [],
   "source": [
    "# try several values of lambda to see how it helps:\n",
    "lambdas = [0.01, 0.1, 1, 10, 100, 1000, 10000, 100000]\n",
    "train_acc = np.zeros((len(lambdas)))\n",
    "test_acc = np.zeros((len(lambdas)))\n",
    "for i in range(len(lambdas)):\n",
    "    l = lambdas[i]\n",
    "    n,d = X_train.shape[0], X_train.shape[1]\n",
    "    ################################################################################\n",
    "    # TODO:                                                                        #\n",
    "    # Implement the closed-form solution of the weight W with regularization.      #\n",
    "    ################################################################################\n",
    "    xtx = (np.transpose(X_train) @ X_train) + l*n*np.eye(d)\n",
    "    xty = np.transpose(X_train).dot(y_train_oh)\n",
    "    W = np.linalg.inv(xtx).dot(xty)\n",
    "    ################################################################################\n",
    "    #                              END OF YOUR CODE                                #\n",
    "    ################################################################################\n",
    "    train_acc[i] = np.sum(np.argmin(np.abs(1 - X_train.dot(W)), axis=1) == y_train).astype(np.float32)/y_train.shape[0]*100\n",
    "    test_acc[i]  = np.sum(np.argmin(np.abs(1 - X_test.dot(W)), axis=1) == y_test).astype(np.float32)/y_test.shape[0]*100"
   ]
  },
  {
   "cell_type": "code",
   "execution_count": 35,
   "metadata": {
    "collapsed": true
   },
   "outputs": [
    {
     "data": {
      "image/png": "[encoded data removed]",
      "text/plain": [
       "<Figure size 720x576 with 1 Axes>"
      ]
     },
     "metadata": {
      "needs_background": "light"
     },
     "output_type": "display_data"
    }
   ],
   "source": [
    "plt.semilogx(lambdas, train_acc, 'r', label=\"Training accuracy\")\n",
    "plt.semilogx(lambdas, test_acc, 'g', label=\"Testing accuracy\")\n",
    "\n",
    "plt.legend()\n",
    "plt.grid(True)\n",
    "plt.show()"
   ]
  },
  {
   "cell_type": "markdown",
   "metadata": {},
   "source": [
    "**Question:** Try to explain why the performances on the training and test set have such behaviors as we change the value of $\\lambda$."
   ]
  },
  {
   "cell_type": "markdown",
   "metadata": {},
   "source": [
    "**Your answer:** As $\\lambda$ increases, a simple model becomes more important than a model that fits the training set very well. Thus, at small values of $\\lambda$, the training accuracy will be very high and the testing accuracy will be very low as the model will closely fit the training data but not the test data. As $\\lambda$ increases, training accuracy decreases as the model will not fit the training set as well before. Testing accuracy will increase as the model will be more general, but after a certain point, $\\lambda$ = 1000 in the above graph, testing accuracy drops as the model becomes too general."
   ]
  },
  {
   "cell_type": "markdown",
   "metadata": {},
   "source": [
    "## Softmax Classifier\n",
    "\n",
    "The predicted probability for the $j$-th class given a sample vector $x$ and a weight $W$ is:\n",
    "\n",
    "$$\\displaystyle{P(y=j\\mid x)=\\frac{e^{-xw_j}}{\\sum\\limits_{c=1}^{C}e^{-xw_c}}}$$ \n",
    "\n",
    "![softmax](imgs/softmax.png \"Example of Softmax\")\n",
    "\n",
    "Your code for this section will all be written inside **classifiers/softmax.py**. \n"
   ]
  },
  {
   "cell_type": "code",
   "execution_count": 36,
   "metadata": {
    "scrolled": true
   },
   "outputs": [
    {
     "name": "stdout",
     "output_type": "stream",
     "text": [
      "loss: 2.380864\n",
      "sanity check: 2.302585\n"
     ]
    }
   ],
   "source": [
    "# First implement the naive softmax loss function with nested loops.\n",
    "# Open the file classifiers/softmax.py and implement the\n",
    "# softmax_loss_naive function.\n",
    "\n",
    "from classifiers.softmax import softmax_loss_naive\n",
    "import time\n",
    "\n",
    "# Generate a random softmax weight matrix and use it to compute the loss.\n",
    "W = np.random.randn(3073, 10) * 0.0001\n",
    "loss, grad = softmax_loss_naive(W, X_dev, y_dev, 0.0)\n",
    "\n",
    "# As a rough sanity check, our loss should be something close to -log(0.1).\n",
    "print('loss: %f' % loss)\n",
    "print('sanity check: %f' % (-np.log(0.1)))"
   ]
  },
  {
   "cell_type": "markdown",
   "metadata": {},
   "source": [
    "**Question:** Why do we expect our loss to be close to -log(0.1)? Explain briefly.**"
   ]
  },
  {
   "cell_type": "markdown",
   "metadata": {},
   "source": [
    "**Your answer:** This is as this dataset only has 10 classes, thus the probability of getting the right label for each test example is 0.1. Hence, we expect the loss to be close to -log(0.1)"
   ]
  },
  {
   "cell_type": "markdown",
   "metadata": {},
   "source": [
    "# Optimization\n",
    "\n",
    "\n",
    "## Random search"
   ]
  },
  {
   "cell_type": "code",
   "execution_count": 37,
   "metadata": {
    "collapsed": true
   },
   "outputs": [
    {
     "name": "stdout",
     "output_type": "stream",
     "text": [
      "in attempt 0 the loss was 2.346017, best 2.346017\n",
      "in attempt 1 the loss was 2.323649, best 2.323649\n",
      "in attempt 2 the loss was 2.346411, best 2.323649\n",
      "in attempt 3 the loss was 2.357735, best 2.323649\n",
      "in attempt 4 the loss was 2.331117, best 2.323649\n",
      "in attempt 5 the loss was 2.322321, best 2.322321\n",
      "in attempt 6 the loss was 2.330263, best 2.322321\n",
      "in attempt 7 the loss was 2.363373, best 2.322321\n",
      "in attempt 8 the loss was 2.425869, best 2.322321\n",
      "in attempt 9 the loss was 2.438606, best 2.322321\n",
      "in attempt 10 the loss was 2.360946, best 2.322321\n",
      "in attempt 11 the loss was 2.437143, best 2.322321\n",
      "in attempt 12 the loss was 2.393287, best 2.322321\n",
      "in attempt 13 the loss was 2.343271, best 2.322321\n",
      "in attempt 14 the loss was 2.389024, best 2.322321\n",
      "in attempt 15 the loss was 2.425717, best 2.322321\n",
      "in attempt 16 the loss was 2.392865, best 2.322321\n",
      "in attempt 17 the loss was 2.357944, best 2.322321\n",
      "in attempt 18 the loss was 2.379943, best 2.322321\n",
      "in attempt 19 the loss was 2.357643, best 2.322321\n",
      "in attempt 20 the loss was 2.316299, best 2.316299\n",
      "in attempt 21 the loss was 2.334672, best 2.316299\n",
      "in attempt 22 the loss was 2.404035, best 2.316299\n",
      "in attempt 23 the loss was 2.304163, best 2.304163\n",
      "in attempt 24 the loss was 2.386964, best 2.304163\n",
      "in attempt 25 the loss was 2.339042, best 2.304163\n",
      "in attempt 26 the loss was 2.415900, best 2.304163\n",
      "in attempt 27 the loss was 2.427842, best 2.304163\n",
      "in attempt 28 the loss was 2.327053, best 2.304163\n",
      "in attempt 29 the loss was 2.375829, best 2.304163\n",
      "in attempt 30 the loss was 2.346430, best 2.304163\n",
      "in attempt 31 the loss was 2.321405, best 2.304163\n",
      "in attempt 32 the loss was 2.372458, best 2.304163\n",
      "in attempt 33 the loss was 2.380628, best 2.304163\n",
      "in attempt 34 the loss was 2.360905, best 2.304163\n",
      "in attempt 35 the loss was 2.307161, best 2.304163\n",
      "in attempt 36 the loss was 2.399699, best 2.304163\n",
      "in attempt 37 the loss was 2.349561, best 2.304163\n",
      "in attempt 38 the loss was 2.435108, best 2.304163\n",
      "in attempt 39 the loss was 2.382840, best 2.304163\n",
      "in attempt 40 the loss was 2.311527, best 2.304163\n",
      "in attempt 41 the loss was 2.297903, best 2.297903\n",
      "in attempt 42 the loss was 2.315568, best 2.297903\n",
      "in attempt 43 the loss was 2.370139, best 2.297903\n",
      "in attempt 44 the loss was 2.418890, best 2.297903\n",
      "in attempt 45 the loss was 2.350125, best 2.297903\n",
      "in attempt 46 the loss was 2.314503, best 2.297903\n",
      "in attempt 47 the loss was 2.388527, best 2.297903\n",
      "in attempt 48 the loss was 2.323985, best 2.297903\n",
      "in attempt 49 the loss was 2.348714, best 2.297903\n",
      "in attempt 50 the loss was 2.352724, best 2.297903\n",
      "in attempt 51 the loss was 2.353193, best 2.297903\n",
      "in attempt 52 the loss was 2.471915, best 2.297903\n",
      "in attempt 53 the loss was 2.345294, best 2.297903\n",
      "in attempt 54 the loss was 2.368835, best 2.297903\n",
      "in attempt 55 the loss was 2.343611, best 2.297903\n",
      "in attempt 56 the loss was 2.370785, best 2.297903\n",
      "in attempt 57 the loss was 2.413524, best 2.297903\n",
      "in attempt 58 the loss was 2.340418, best 2.297903\n",
      "in attempt 59 the loss was 2.306470, best 2.297903\n",
      "in attempt 60 the loss was 2.324161, best 2.297903\n",
      "in attempt 61 the loss was 2.278780, best 2.278780\n",
      "in attempt 62 the loss was 2.439210, best 2.278780\n",
      "in attempt 63 the loss was 2.361272, best 2.278780\n",
      "in attempt 64 the loss was 2.383369, best 2.278780\n",
      "in attempt 65 the loss was 2.269405, best 2.269405\n",
      "in attempt 66 the loss was 2.411336, best 2.269405\n",
      "in attempt 67 the loss was 2.396853, best 2.269405\n",
      "in attempt 68 the loss was 2.380937, best 2.269405\n",
      "in attempt 69 the loss was 2.349285, best 2.269405\n",
      "in attempt 70 the loss was 2.302930, best 2.269405\n",
      "in attempt 71 the loss was 2.356040, best 2.269405\n",
      "in attempt 72 the loss was 2.373648, best 2.269405\n",
      "in attempt 73 the loss was 2.370958, best 2.269405\n",
      "in attempt 74 the loss was 2.309778, best 2.269405\n",
      "in attempt 75 the loss was 2.341909, best 2.269405\n",
      "in attempt 76 the loss was 2.311944, best 2.269405\n",
      "in attempt 77 the loss was 2.362005, best 2.269405\n",
      "in attempt 78 the loss was 2.406865, best 2.269405\n",
      "in attempt 79 the loss was 2.369891, best 2.269405\n",
      "in attempt 80 the loss was 2.339579, best 2.269405\n",
      "in attempt 81 the loss was 2.294596, best 2.269405\n",
      "in attempt 82 the loss was 2.353653, best 2.269405\n",
      "in attempt 83 the loss was 2.371741, best 2.269405\n",
      "in attempt 84 the loss was 2.335790, best 2.269405\n",
      "in attempt 85 the loss was 2.323281, best 2.269405\n",
      "in attempt 86 the loss was 2.377277, best 2.269405\n",
      "in attempt 87 the loss was 2.345165, best 2.269405\n",
      "in attempt 88 the loss was 2.340496, best 2.269405\n",
      "in attempt 89 the loss was 2.411736, best 2.269405\n",
      "in attempt 90 the loss was 2.276195, best 2.269405\n",
      "in attempt 91 the loss was 2.335273, best 2.269405\n",
      "in attempt 92 the loss was 2.344019, best 2.269405\n",
      "in attempt 93 the loss was 2.336443, best 2.269405\n",
      "in attempt 94 the loss was 2.363609, best 2.269405\n",
      "in attempt 95 the loss was 2.343149, best 2.269405\n",
      "in attempt 96 the loss was 2.321319, best 2.269405\n",
      "in attempt 97 the loss was 2.333862, best 2.269405\n",
      "in attempt 98 the loss was 2.401409, best 2.269405\n",
      "in attempt 99 the loss was 2.375979, best 2.269405\n"
     ]
    }
   ],
   "source": [
    "bestloss = float('inf')\n",
    "for num in range(100):\n",
    "    W = np.random.randn(3073, 10) * 0.0001\n",
    "    loss, _ = softmax_loss_naive(W, X_dev, y_dev, 0.0)\n",
    "    if (loss < bestloss):\n",
    "        bestloss = loss\n",
    "        bestW = W\n",
    "    print('in attempt %d the loss was %f, best %f' % (num, loss, bestloss))"
   ]
  },
  {
   "cell_type": "code",
   "execution_count": 38,
   "metadata": {
    "collapsed": true
   },
   "outputs": [
    {
     "name": "stdout",
     "output_type": "stream",
     "text": [
      "Accuracy on train set 0.136449\n",
      "Accuracy on test set 0.143000\n"
     ]
    }
   ],
   "source": [
    "# How bestW perform on trainset\n",
    "scores = X_train.dot(bestW)\n",
    "y_pred = np.argmax(scores, axis=1)\n",
    "print('Accuracy on train set %f' % np.mean(y_pred == y_train))\n",
    "\n",
    "# evaluate performance of test set\n",
    "scores = X_test.dot(bestW)\n",
    "y_pred = np.argmax(scores, axis=1)\n",
    "print('Accuracy on test set %f' % np.mean(y_pred == y_test))"
   ]
  },
  {
   "cell_type": "markdown",
   "metadata": {},
   "source": [
    "Compare the performance when using random search with *regression classifier* and *softmax classifier*. You can see how much useful the softmax classifier is."
   ]
  },
  {
   "cell_type": "markdown",
   "metadata": {},
   "source": [
    "## Stochastic Gradient descent\n",
    "Even though it is possible to achieve closed-form solution with softmax classifier, it would be more complicated. In fact, we could achieve very good results with gradient descent approach. Additionally, in case of very large dataset, it is impossible to load the whole dataset into the memory. Gradient descent can help to optimize the loss function in batch. \n",
    "\n",
    "$$\\mathbf{W}^{t+1}=\\mathbf{W}^{t}−\\alpha \\frac{\\partial\\mathcal{L(\\mathbf{x};\\mathbf{W}^{t})}}{\\partial\\mathbf{W}^{t}}$$\n",
    "\n",
    "Where $\\alpha$ is the learning rate, $\\mathcal{L}$ is a loss function, and $\\mathbf{x}$ is a batch of training dataset."
   ]
  },
  {
   "cell_type": "code",
   "execution_count": 39,
   "metadata": {
    "collapsed": true
   },
   "outputs": [
    {
     "name": "stdout",
     "output_type": "stream",
     "text": [
      "numerical: 1.217947 analytic: 1.215857, relative error: 8.588240e-04\n",
      "numerical: 0.132489 analytic: 0.152055, relative error: 6.876277e-02\n",
      "numerical: 0.795245 analytic: 0.759320, relative error: 2.310899e-02\n",
      "numerical: 0.555071 analytic: 0.444335, relative error: 1.108019e-01\n",
      "numerical: 0.141194 analytic: 0.133569, relative error: 2.775068e-02\n",
      "numerical: -2.168304 analytic: -1.923995, relative error: 5.969954e-02\n",
      "numerical: 1.650670 analytic: 1.277481, relative error: 1.274487e-01\n",
      "numerical: 3.004256 analytic: 2.632132, relative error: 6.602164e-02\n",
      "numerical: 4.017216 analytic: 3.289637, relative error: 9.957483e-02\n",
      "numerical: -2.426998 analytic: -2.271771, relative error: 3.303559e-02\n",
      "numerical: 0.621639 analytic: 0.640145, relative error: 1.466726e-02\n",
      "numerical: 0.400419 analytic: 0.243615, relative error: 2.434716e-01\n",
      "numerical: 2.203817 analytic: 1.785335, relative error: 1.049049e-01\n",
      "numerical: 0.798253 analytic: 0.541017, relative error: 1.920719e-01\n",
      "numerical: 2.089670 analytic: 1.897814, relative error: 4.811454e-02\n",
      "numerical: 0.651894 analytic: 0.576449, relative error: 6.142058e-02\n",
      "numerical: -0.552464 analytic: -0.586683, relative error: 3.003939e-02\n",
      "numerical: -1.851292 analytic: -1.757381, relative error: 2.602369e-02\n",
      "numerical: 0.402573 analytic: 0.434034, relative error: 3.760599e-02\n",
      "numerical: -3.189398 analytic: -2.942604, relative error: 4.024692e-02\n"
     ]
    }
   ],
   "source": [
    "# Complete the implementation of softmax_loss_naive and implement a (naive)\n",
    "# version of the gradient that uses nested loops.\n",
    "loss, grad = softmax_loss_naive(W, X_dev, y_dev, 0.0)\n",
    "\n",
    "# Use numeric gradient checking as a debugging tool.\n",
    "# The numeric gradient should be close to the analytic gradient.\n",
    "from gradient_check import grad_check_sparse\n",
    "f = lambda w: softmax_loss_naive(w, X_dev, y_dev, 0.0)[0]\n",
    "grad_numerical = grad_check_sparse(f, W, grad, 10)\n",
    "\n",
    "# gradient check with regularization\n",
    "loss, grad = softmax_loss_naive(W, X_dev, y_dev, 1e2)\n",
    "f = lambda w: softmax_loss_naive(w, X_dev, y_dev, 1e2)[0]\n",
    "grad_numerical = grad_check_sparse(f, W, grad, 10)"
   ]
  },
  {
   "cell_type": "code",
   "execution_count": 40,
   "metadata": {
    "collapsed": true
   },
   "outputs": [
    {
     "name": "stdout",
     "output_type": "stream",
     "text": [
      "naive loss: 2.375979e+00 computed in 0.262602s\n",
      "vectorized loss: 2.375979e+00 computed in 0.017003s\n",
      "Loss difference: 0.000000\n",
      "Gradient difference: 39.164211\n"
     ]
    }
   ],
   "source": [
    "# Now that we have a naive implementation of the softmax loss function and its gradient,\n",
    "# implement a vectorized version in softmax_loss_vectorized.\n",
    "# The two versions should compute the same results, but the vectorized version should be\n",
    "# much faster.\n",
    "tic = time.time()\n",
    "loss_naive, grad_naive = softmax_loss_naive(W, X_dev, y_dev, 0.00001)\n",
    "toc = time.time()\n",
    "print('naive loss: %e computed in %fs' % (loss_naive, toc - tic))\n",
    "\n",
    "from classifiers.softmax import softmax_loss_vectorized\n",
    "tic = time.time()\n",
    "loss_vectorized, grad_vectorized = softmax_loss_vectorized(W, X_dev, y_dev, 0.00001)\n",
    "toc = time.time()\n",
    "print('vectorized loss: %e computed in %fs' % (loss_vectorized, toc - tic))\n",
    "\n",
    "# We use the Frobenius norm to compare the two versions\n",
    "# of the gradient.\n",
    "grad_difference = np.linalg.norm(grad_naive - grad_vectorized, ord='fro')\n",
    "print('Loss difference: %f' % np.abs(loss_naive - loss_vectorized))\n",
    "print('Gradient difference: %f' % grad_difference)"
   ]
  },
  {
   "cell_type": "code",
   "execution_count": 41,
   "metadata": {
    "collapsed": true
   },
   "outputs": [
    {
     "name": "stdout",
     "output_type": "stream",
     "text": [
      "iteration 0 / 1500: loss 770.077851\n",
      "iteration 100 / 1500: loss 282.691117\n",
      "iteration 200 / 1500: loss 104.753364\n",
      "iteration 300 / 1500: loss 39.530119\n",
      "iteration 400 / 1500: loss 15.845203\n",
      "iteration 500 / 1500: loss 7.149301\n",
      "iteration 600 / 1500: loss 3.958358\n",
      "iteration 700 / 1500: loss 2.725728\n",
      "iteration 800 / 1500: loss 2.342481\n",
      "iteration 900 / 1500: loss 2.118801\n",
      "iteration 1000 / 1500: loss 2.136342\n",
      "iteration 1100 / 1500: loss 2.122971\n",
      "iteration 1200 / 1500: loss 2.111508\n",
      "iteration 1300 / 1500: loss 2.085928\n",
      "iteration 1400 / 1500: loss 2.098787\n",
      "That took 18.467031s\n"
     ]
    }
   ],
   "source": [
    "from classifiers.linear_classifier import *\n",
    "\n",
    "classifier = Softmax()\n",
    "tic = time.time()\n",
    "loss_hist = classifier.train(X_train, y_train, learning_rate=1e-7, reg=5e4,\n",
    "                                  num_iters=1500, verbose=True)\n",
    "toc = time.time()\n",
    "print('That took %fs' % (toc - tic))"
   ]
  },
  {
   "cell_type": "code",
   "execution_count": 42,
   "metadata": {
    "collapsed": true
   },
   "outputs": [
    {
     "name": "stdout",
     "output_type": "stream",
     "text": [
      "training accuracy: 0.327184\n",
      "validation accuracy: 0.342000\n"
     ]
    }
   ],
   "source": [
    "# Write the Softmax.predict function and evaluate the performance on both the\n",
    "# training and validation set\n",
    "y_train_pred = classifier.predict(X_train)\n",
    "print('training accuracy: %f' % (np.mean(y_train == y_train_pred), ))\n",
    "y_val_pred = classifier.predict(X_val)\n",
    "print('validation accuracy: %f' % (np.mean(y_val == y_val_pred), ))"
   ]
  },
  {
   "cell_type": "code",
   "execution_count": 43,
   "metadata": {
    "collapsed": true
   },
   "outputs": [
    {
     "data": {
      "image/png": "[encoded data removed]",
      "text/plain": [
       "<Figure size 720x576 with 1 Axes>"
      ]
     },
     "metadata": {
      "needs_background": "light"
     },
     "output_type": "display_data"
    }
   ],
   "source": [
    "# A useful debugging strategy is to plot the loss as a function of\n",
    "# iteration number:\n",
    "plt.plot(loss_hist)\n",
    "plt.xlabel('Iteration number')\n",
    "plt.ylabel('Loss value')\n",
    "plt.show()"
   ]
  },
  {
   "cell_type": "code",
   "execution_count": 44,
   "metadata": {
    "collapsed": true
   },
   "outputs": [
    {
     "name": "stdout",
     "output_type": "stream",
     "text": [
      "softmax on raw pixels final test set accuracy: 33.50\n"
     ]
    }
   ],
   "source": [
    "# evaluate on test set\n",
    "# Evaluate the best softmax on test set\n",
    "y_test_pred = classifier.predict(X_test)\n",
    "test_accuracy = np.mean(y_test == y_test_pred)\n",
    "print('softmax on raw pixels final test set accuracy: %.2f' % (100*test_accuracy, ))"
   ]
  }
 ],
 "metadata": {
  "anaconda-cloud": {},
  "kernelspec": {
   "display_name": "Python 3",
   "language": "python",
   "name": "python3"
  },
  "language_info": {
   "codemirror_mode": {
    "name": "ipython",
    "version": 3
   },
   "file_extension": ".py",
   "mimetype": "text/x-python",
   "name": "python",
   "nbconvert_exporter": "python",
   "pygments_lexer": "ipython3",
   "version": "3.9.7"
  }
 },
 "nbformat": 4,
 "nbformat_minor": 1
}
